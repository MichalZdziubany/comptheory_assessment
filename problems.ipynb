{
 "cells": [
  {
   "cell_type": "markdown",
   "id": "2ffa7fa5",
   "metadata": {},
   "source": [
    "# Computational Theory Problems"
   ]
  },
  {
   "cell_type": "code",
   "execution_count": null,
   "id": "48b79819",
   "metadata": {},
   "outputs": [],
   "source": [
    "#Library to work with arrays and mathematical functions\n",
    "import numpy as np"
   ]
  },
  {
   "cell_type": "markdown",
   "id": "e3d1cbdd",
   "metadata": {},
   "source": [
    "## Probelm 1 Binary Words and Operations"
   ]
  },
  {
   "cell_type": "code",
   "execution_count": null,
   "id": "b2a45b96",
   "metadata": {},
   "outputs": [],
   "source": []
  },
  {
   "cell_type": "markdown",
   "id": "0a3bc188",
   "metadata": {},
   "source": [
    "## Problem 2 Fractional Parts of Cube Roots"
   ]
  },
  {
   "cell_type": "code",
   "execution_count": null,
   "id": "2f70644e",
   "metadata": {},
   "outputs": [],
   "source": []
  },
  {
   "cell_type": "markdown",
   "id": "55ed3539",
   "metadata": {},
   "source": [
    "## Problem 3 Padding"
   ]
  },
  {
   "cell_type": "markdown",
   "id": "fd62314d",
   "metadata": {},
   "source": [
    "## Problem 4 Hashes "
   ]
  },
  {
   "cell_type": "markdown",
   "id": "56e508ac",
   "metadata": {},
   "source": [
    "## Problem 5 Passwords"
   ]
  },
  {
   "cell_type": "markdown",
   "id": "e29bb4f9",
   "metadata": {},
   "source": [
    "## End"
   ]
  }
 ],
 "metadata": {
  "kernelspec": {
   "display_name": "Python 3",
   "language": "python",
   "name": "python3"
  },
  "language_info": {
   "codemirror_mode": {
    "name": "ipython",
    "version": 3
   },
   "file_extension": ".py",
   "mimetype": "text/x-python",
   "name": "python",
   "nbconvert_exporter": "python",
   "pygments_lexer": "ipython3",
   "version": "3.12.1"
  }
 },
 "nbformat": 4,
 "nbformat_minor": 5
}
