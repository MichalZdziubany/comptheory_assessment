{
 "cells": [
  {
   "cell_type": "markdown",
   "id": "2ffa7fa5",
   "metadata": {},
   "source": [
    "# Computational Theory Problems"
   ]
  },
  {
   "cell_type": "code",
   "execution_count": 180,
   "id": "48b79819",
   "metadata": {},
   "outputs": [],
   "source": [
    "#Library to work with arrays and mathematical functions\n",
    "import numpy as np\n",
    "import timeit"
   ]
  },
  {
   "cell_type": "markdown",
   "id": "e3d1cbdd",
   "metadata": {},
   "source": [
    "## Probelm 1 Binary Words and Operations"
   ]
  },
  {
   "cell_type": "code",
   "execution_count": 181,
   "id": "e43f95b8",
   "metadata": {},
   "outputs": [],
   "source": [
    "def ROTR(x, n):\n",
    "    \"\"\"\n",
    "    Rotate right (Circular right shift)\n",
    "    32-bit integer x rotated right by n bits.\n",
    "    \"\"\"\n",
    "    return ((x >> n) | (x << (32 - n)))"
   ]
  },
  {
   "cell_type": "code",
   "execution_count": 182,
   "id": "b2a45b96",
   "metadata": {},
   "outputs": [],
   "source": [
    "def Parity(x,y,z):\n",
    "    \"\"\"\n",
    "    Parity returns the bitwise parity (XOR) of three integers.\n",
    "    \"\"\"\n",
    "    return x ^ y ^ z"
   ]
  },
  {
   "cell_type": "code",
   "execution_count": 183,
   "id": "778f0c6b",
   "metadata": {},
   "outputs": [],
   "source": [
    "def Ch(x,y,z):\n",
    "    \"\"\"\n",
    "    SHA-256 'choose' function.\n",
    "    For each bit, returns y if the corresponding bit of x is 1, else z.\n",
    "    \"\"\"\n",
    "    return (x & y) ^ (~x & z)"
   ]
  },
  {
   "cell_type": "code",
   "execution_count": 184,
   "id": "061234d7",
   "metadata": {},
   "outputs": [],
   "source": [
    "def Maj(x,y,z):\n",
    "    \"\"\"\n",
    "    SHA-256 'majority' function.\n",
    "    For each bit, returns the majority value among x, y, and z.\n",
    "    \"\"\"\n",
    "    return (x & y) ^ (x & z) ^(y & z)"
   ]
  },
  {
   "cell_type": "code",
   "execution_count": 185,
   "id": "076ef66d",
   "metadata": {},
   "outputs": [],
   "source": [
    "def Sigma0(x):\n",
    "    \"\"\"\n",
    "    SHA256 Sigma0 function\n",
    "    For a 32-bit integer x, performs right rotations by 2, 13, and 22 bits\n",
    "    and returns the XOR of the results.\n",
    "    \"\"\"\n",
    "    return (ROTR(x, 2)) ^ (ROTR(x, 13)) ^ (ROTR(x, 22))"
   ]
  },
  {
   "cell_type": "code",
   "execution_count": 186,
   "id": "41b780b4",
   "metadata": {},
   "outputs": [],
   "source": [
    "def Sigma1(x):\n",
    "    \"\"\"\n",
    "    SHA256 Sigma1 function\n",
    "    For a 32-bit integer x, performs right rotations by 6, 11 and 25 bits\n",
    "    and returns the XOR of the results.\n",
    "    \"\"\"\n",
    "\n",
    "    return (ROTR(x, 6)) ^ (ROTR(x, 11)) ^ (ROTR(x, 25))"
   ]
  },
  {
   "cell_type": "code",
   "execution_count": 187,
   "id": "d016da7d",
   "metadata": {},
   "outputs": [],
   "source": [
    "def sigma0(x):\n",
    "    \"\"\"\n",
    "    SHA-256 'sigma0' function.\n",
    "    For a 32-bit integer x, performs right rotations by 7, 18, and shift 3 bits\n",
    "    and returns the XOR of the results.\n",
    "    \"\"\"\n",
    "    return (ROTR(x, 7)) ^ (ROTR(x, 18)) ^ (x >> 3)"
   ]
  },
  {
   "cell_type": "code",
   "execution_count": 188,
   "id": "c0e28062",
   "metadata": {},
   "outputs": [],
   "source": [
    "def sigma1(x):\n",
    "    \"\"\"\n",
    "    SHA-256 'sigma1' function.\n",
    "    For a 32-bit integer x, performs right rotations by 17, 19, and shift 10 bits\n",
    "    and returns the XOR of the results.\n",
    "    \"\"\"\n",
    "    return (ROTR(x, 17)) ^ (ROTR(x, 19)) ^ (x >> 10)"
   ]
  },
  {
   "cell_type": "markdown",
   "id": "0a3bc188",
   "metadata": {},
   "source": [
    "## Problem 2 Fractional Parts of Cube Roots"
   ]
  },
  {
   "cell_type": "code",
   "execution_count": 189,
   "id": "2f70644e",
   "metadata": {},
   "outputs": [],
   "source": [
    "#https://stackoverflow.com/questions/54543956/finding-prime-number-using-the-square-root-method\n",
    "#code adapted from above link\n",
    "def is_prime(num):\n",
    "    \"\"\"\n",
    "    Check if a number is prime\n",
    "\n",
    "    This functions checks if a given number is prime,\n",
    "    it divides the number by integers between 2 and 1 more than its square root\n",
    "    as if its not divisible by a factor smaller than the square root than it cant be divisible by a larger factor than the square root\n",
    "    if it passes this test then it is prime\n",
    "    \"\"\"\n",
    "    if num >= 2:\n",
    "        for i in range(2, int(np.sqrt(num)) + 1):\n",
    "            if (num % i) == 0:\n",
    "                return False\n",
    "    return True\n"
   ]
  },
  {
   "cell_type": "code",
   "execution_count": 190,
   "id": "9c62d8cf",
   "metadata": {},
   "outputs": [],
   "source": [
    "def primes(n):\n",
    "    \"\"\"\n",
    "    Generate the first n prime numbers\n",
    "    start from 2 and check each number if it is prime using the is_prime function\n",
    "    if it is prime add it to the list of primes\n",
    "    add 1 to the number and repeat until we have n primes\n",
    "    \"\"\"\n",
    "    \n",
    "    primes = []\n",
    "    num = 2  \n",
    "    while len(primes) < n:\n",
    "        if is_prime(num):\n",
    "            primes.append(num)\n",
    "        num += 1\n",
    "\n",
    "    return primes"
   ]
  },
  {
   "cell_type": "code",
   "execution_count": 191,
   "id": "dce33fb1",
   "metadata": {},
   "outputs": [],
   "source": [
    "def frac32():\n",
    "    \"\"\"\n",
    "    \"\"\"\n",
    "    prime_numbers = primes(64)\n",
    "    frac32 = []\n",
    "\n",
    "    for prime in prime_numbers:\n",
    "        cube_root = prime ** (1/3)\n",
    "        frac = cube_root - int(cube_root)\n",
    "        frac = frac * (2**32)\n",
    "        frac32.append(int(frac))\n",
    "        \n",
    "    return frac32"
   ]
  },
  {
   "cell_type": "code",
   "execution_count": 192,
   "id": "f56c79f6",
   "metadata": {},
   "outputs": [
    {
     "name": "stdout",
     "output_type": "stream",
     "text": [
      "428a2f98\n",
      "71374491\n",
      "b5c0fbcf\n",
      "e9b5dba5\n",
      "3956c25b\n",
      "59f111f1\n",
      "923f82a4\n",
      "ab1c5ed5\n",
      "d807aa98\n",
      "12835b01\n",
      "243185be\n",
      "550c7dc3\n",
      "72be5d74\n",
      "80deb1fe\n",
      "9bdc06a7\n",
      "c19bf174\n",
      "e49b69c1\n",
      "efbe4786\n",
      "0fc19dc6\n",
      "240ca1cc\n",
      "2de92c6f\n",
      "4a7484aa\n",
      "5cb0a9dc\n",
      "76f988da\n",
      "983e5152\n",
      "a831c66d\n",
      "b00327c8\n",
      "bf597fc7\n",
      "c6e00bf3\n",
      "d5a79147\n",
      "06ca6351\n",
      "14292967\n",
      "27b70a85\n",
      "2e1b2138\n",
      "4d2c6dfc\n",
      "53380d13\n",
      "650a7354\n",
      "766a0abb\n",
      "81c2c92e\n",
      "92722c85\n",
      "a2bfe8a1\n",
      "a81a664b\n",
      "c24b8b70\n",
      "c76c51a3\n",
      "d192e819\n",
      "d6990624\n",
      "f40e3585\n",
      "106aa070\n",
      "19a4c116\n",
      "1e376c08\n",
      "2748774c\n",
      "34b0bcb5\n",
      "391c0cb3\n",
      "4ed8aa4a\n",
      "5b9cca4f\n",
      "682e6ff3\n",
      "748f82ee\n",
      "78a5636f\n",
      "84c87814\n",
      "8cc70208\n",
      "90befffa\n",
      "a4506ceb\n",
      "bef9a3f7\n",
      "c67178f2\n"
     ]
    }
   ],
   "source": [
    "for frac in frac32():\n",
    "    print(f\"{frac:08x}\")"
   ]
  },
  {
   "cell_type": "markdown",
   "id": "55ed3539",
   "metadata": {},
   "source": [
    "## Problem 3 Padding"
   ]
  },
  {
   "cell_type": "code",
   "execution_count": null,
   "id": "b1bd0a7e",
   "metadata": {},
   "outputs": [],
   "source": []
  },
  {
   "cell_type": "markdown",
   "id": "fd62314d",
   "metadata": {},
   "source": [
    "## Problem 4 Hashes "
   ]
  },
  {
   "cell_type": "markdown",
   "id": "56e508ac",
   "metadata": {},
   "source": [
    "## Problem 5 Passwords"
   ]
  },
  {
   "cell_type": "markdown",
   "id": "e29bb4f9",
   "metadata": {},
   "source": [
    "## End"
   ]
  }
 ],
 "metadata": {
  "kernelspec": {
   "display_name": "Python 3",
   "language": "python",
   "name": "python3"
  },
  "language_info": {
   "codemirror_mode": {
    "name": "ipython",
    "version": 3
   },
   "file_extension": ".py",
   "mimetype": "text/x-python",
   "name": "python",
   "nbconvert_exporter": "python",
   "pygments_lexer": "ipython3",
   "version": "3.12.1"
  }
 },
 "nbformat": 4,
 "nbformat_minor": 5
}
