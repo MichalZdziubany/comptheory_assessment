{
 "cells": [
  {
   "cell_type": "markdown",
   "id": "2ffa7fa5",
   "metadata": {},
   "source": [
    "# Computational Theory Problems"
   ]
  },
  {
   "cell_type": "code",
   "execution_count": 1,
   "id": "48b79819",
   "metadata": {},
   "outputs": [],
   "source": [
    "#Library to work with arrays and mathematical functions\n",
    "import numpy as np"
   ]
  },
  {
   "cell_type": "markdown",
   "id": "e3d1cbdd",
   "metadata": {},
   "source": [
    "## Probelm 1 Binary Words and Operations"
   ]
  },
  {
   "cell_type": "code",
   "execution_count": 2,
   "id": "b2a45b96",
   "metadata": {},
   "outputs": [],
   "source": [
    "def Parity(x,y,z):\n",
    "    \"\"\"\n",
    "    Parity returns the bitwise parity (XOR) of three integers.\n",
    "    \"\"\"\n",
    "    return x ^ y ^ z"
   ]
  },
  {
   "cell_type": "code",
   "execution_count": 3,
   "id": "778f0c6b",
   "metadata": {},
   "outputs": [],
   "source": [
    "def Ch(x,y,z):\n",
    "    \"\"\"\n",
    "    SHA-256 'choose' function.\n",
    "    For each bit, returns y if the corresponding bit of x is 1, else z.\n",
    "    \"\"\"\n",
    "    return (x & y) ^ (~x & z)"
   ]
  },
  {
   "cell_type": "code",
   "execution_count": 4,
   "id": "061234d7",
   "metadata": {},
   "outputs": [],
   "source": [
    "def Maj(x,y,z):\n",
    "    \"\"\"\n",
    "    SHA-256 'majority' function.\n",
    "    For each bit, returns the majority value among x, y, and z.\n",
    "    \"\"\"\n",
    "    return (x & y) ^ (x & z) ^(y & z)"
   ]
  },
  {
   "cell_type": "code",
   "execution_count": 5,
   "id": "076ef66d",
   "metadata": {},
   "outputs": [],
   "source": [
    "def Sigma0(x):\n",
    "    \"\"\"\n",
    "    SHA256 Sigma0 function\n",
    "    For a 32-bit integer x, performs right rotations by 2, 13, and 22 bits\n",
    "    and returns the XOR of the results.\n",
    "    \"\"\"\n",
    "    return (x >> 2) ^ (x >> 13) ^ (x >> 22)"
   ]
  },
  {
   "cell_type": "code",
   "execution_count": 6,
   "id": "41b780b4",
   "metadata": {},
   "outputs": [],
   "source": [
    "def Sigma1(x):\n",
    "    \"\"\"\n",
    "    SHA256 Sigma1 function\n",
    "    For a 32-bit integer x, performs right rotations by 6, 11 and 25 bits\n",
    "    and returns the XOR of the results.\n",
    "    \"\"\"\n",
    "\n",
    "    return (x >> 6) ^ (x >> 11) ^ (x >> 25)"
   ]
  },
  {
   "cell_type": "code",
   "execution_count": 7,
   "id": "d016da7d",
   "metadata": {},
   "outputs": [],
   "source": [
    "def sigma0(x):\n",
    "    \"\"\"\n",
    "    SHA-256 'sigma0' function.\n",
    "    For a 32-bit integer x, performs right rotations by 7, 18, and 3 bits\n",
    "    and returns the XOR of the results.\n",
    "    \"\"\"\n",
    "    return (x >> 7) ^ (x >> 18) ^ (x >> 3)"
   ]
  },
  {
   "cell_type": "code",
   "execution_count": 8,
   "id": "c0e28062",
   "metadata": {},
   "outputs": [],
   "source": [
    "def sigma1(x):\n",
    "    \"\"\"\n",
    "    SHA-256 'sigma1' function.\n",
    "    For a 32-bit integer x, performs right rotations by 17, 19, and 10 bits\n",
    "    and returns the XOR of the results.\n",
    "    \"\"\"\n",
    "    return (x >> 17) ^ (x >> 19) ^ (x >> 10)"
   ]
  },
  {
   "cell_type": "markdown",
   "id": "0a3bc188",
   "metadata": {},
   "source": [
    "## Problem 2 Fractional Parts of Cube Roots"
   ]
  },
  {
   "cell_type": "code",
   "execution_count": null,
   "id": "2f70644e",
   "metadata": {},
   "outputs": [],
   "source": [
    "def primes(n):\n",
    "    \"\"\"\"Generate the first n prime numbers\"\"\"\n",
    "    "
   ]
  },
  {
   "cell_type": "code",
   "execution_count": null,
   "id": "9c62d8cf",
   "metadata": {},
   "outputs": [],
   "source": []
  },
  {
   "cell_type": "markdown",
   "id": "55ed3539",
   "metadata": {},
   "source": [
    "## Problem 3 Padding"
   ]
  },
  {
   "cell_type": "markdown",
   "id": "fd62314d",
   "metadata": {},
   "source": [
    "## Problem 4 Hashes "
   ]
  },
  {
   "cell_type": "markdown",
   "id": "56e508ac",
   "metadata": {},
   "source": [
    "## Problem 5 Passwords"
   ]
  },
  {
   "cell_type": "markdown",
   "id": "e29bb4f9",
   "metadata": {},
   "source": [
    "## End"
   ]
  }
 ],
 "metadata": {
  "kernelspec": {
   "display_name": "Python 3",
   "language": "python",
   "name": "python3"
  },
  "language_info": {
   "codemirror_mode": {
    "name": "ipython",
    "version": 3
   },
   "file_extension": ".py",
   "mimetype": "text/x-python",
   "name": "python",
   "nbconvert_exporter": "python",
   "pygments_lexer": "ipython3",
   "version": "3.12.1"
  }
 },
 "nbformat": 4,
 "nbformat_minor": 5
}
