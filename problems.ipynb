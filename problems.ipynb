{
 "cells": [
  {
   "cell_type": "markdown",
   "id": "2ffa7fa5",
   "metadata": {},
   "source": [
    "# Computational Theory Problems"
   ]
  },
  {
   "cell_type": "code",
   "execution_count": 14,
   "id": "48b79819",
   "metadata": {},
   "outputs": [],
   "source": [
    "#Library to work with arrays and mathematical functions\n",
    "import numpy as np\n",
    "import timeit"
   ]
  },
  {
   "cell_type": "markdown",
   "id": "e3d1cbdd",
   "metadata": {},
   "source": [
    "## Probelm 1 Binary Words and Operations"
   ]
  },
  {
   "cell_type": "code",
   "execution_count": 2,
   "id": "e43f95b8",
   "metadata": {},
   "outputs": [],
   "source": [
    "def ROTR(x, n):\n",
    "    \"\"\"\n",
    "    Rotate right (Circular right shift)\n",
    "    32-bit integer x rotated right by n bits.\n",
    "    \"\"\"\n",
    "    return ((x >> n) | (x << (32 - n)))"
   ]
  },
  {
   "cell_type": "code",
   "execution_count": 3,
   "id": "b2a45b96",
   "metadata": {},
   "outputs": [],
   "source": [
    "def Parity(x,y,z):\n",
    "    \"\"\"\n",
    "    Parity returns the bitwise parity (XOR) of three integers.\n",
    "    \"\"\"\n",
    "    return x ^ y ^ z"
   ]
  },
  {
   "cell_type": "code",
   "execution_count": 4,
   "id": "778f0c6b",
   "metadata": {},
   "outputs": [],
   "source": [
    "def Ch(x,y,z):\n",
    "    \"\"\"\n",
    "    SHA-256 'choose' function.\n",
    "    For each bit, returns y if the corresponding bit of x is 1, else z.\n",
    "    \"\"\"\n",
    "    return (x & y) ^ (~x & z)"
   ]
  },
  {
   "cell_type": "code",
   "execution_count": 5,
   "id": "061234d7",
   "metadata": {},
   "outputs": [],
   "source": [
    "def Maj(x,y,z):\n",
    "    \"\"\"\n",
    "    SHA-256 'majority' function.\n",
    "    For each bit, returns the majority value among x, y, and z.\n",
    "    \"\"\"\n",
    "    return (x & y) ^ (x & z) ^(y & z)"
   ]
  },
  {
   "cell_type": "code",
   "execution_count": 6,
   "id": "076ef66d",
   "metadata": {},
   "outputs": [],
   "source": [
    "def Sigma0(x):\n",
    "    \"\"\"\n",
    "    SHA256 Sigma0 function\n",
    "    For a 32-bit integer x, performs right rotations by 2, 13, and 22 bits\n",
    "    and returns the XOR of the results.\n",
    "    \"\"\"\n",
    "    return (ROTR(x, 2)) ^ (ROTR(x, 13)) ^ (ROTR(x, 22))"
   ]
  },
  {
   "cell_type": "code",
   "execution_count": 7,
   "id": "41b780b4",
   "metadata": {},
   "outputs": [],
   "source": [
    "def Sigma1(x):\n",
    "    \"\"\"\n",
    "    SHA256 Sigma1 function\n",
    "    For a 32-bit integer x, performs right rotations by 6, 11 and 25 bits\n",
    "    and returns the XOR of the results.\n",
    "    \"\"\"\n",
    "\n",
    "    return (ROTR(x, 6)) ^ (ROTR(x, 11)) ^ (ROTR(x, 25))"
   ]
  },
  {
   "cell_type": "code",
   "execution_count": 8,
   "id": "d016da7d",
   "metadata": {},
   "outputs": [],
   "source": [
    "def sigma0(x):\n",
    "    \"\"\"\n",
    "    SHA-256 'sigma0' function.\n",
    "    For a 32-bit integer x, performs right rotations by 7, 18, and shift 3 bits\n",
    "    and returns the XOR of the results.\n",
    "    \"\"\"\n",
    "    return (ROTR(x, 7)) ^ (ROTR(x, 18)) ^ (x >> 3)"
   ]
  },
  {
   "cell_type": "code",
   "execution_count": 9,
   "id": "c0e28062",
   "metadata": {},
   "outputs": [],
   "source": [
    "def sigma1(x):\n",
    "    \"\"\"\n",
    "    SHA-256 'sigma1' function.\n",
    "    For a 32-bit integer x, performs right rotations by 17, 19, and shift 10 bits\n",
    "    and returns the XOR of the results.\n",
    "    \"\"\"\n",
    "    return (ROTR(x, 17)) ^ (ROTR(x, 19)) ^ (x >> 10)"
   ]
  },
  {
   "cell_type": "markdown",
   "id": "0a3bc188",
   "metadata": {},
   "source": [
    "## Problem 2 Fractional Parts of Cube Roots"
   ]
  },
  {
   "cell_type": "code",
   "execution_count": null,
   "id": "2f70644e",
   "metadata": {},
   "outputs": [],
   "source": [
    "#https://stackoverflow.com/questions/54543956/finding-prime-number-using-the-square-root-method\n",
    "#code adapted from above link\n",
    "def is_prime(num):\n",
    "    \"\"\"\n",
    "    Check if a number is prime\n",
    "\n",
    "    This functions checks if a given number is prime,\n",
    "    it divides the number by integers between 2 and the 1 more than its square root\n",
    "    as if its not divisible by a factor smaller than the square root than it cant be divisible by a larger factor than the square root\n",
    "    if it passes this test then it is prime\n",
    "    \"\"\"\n",
    "    if num >= 2:\n",
    "        for i in range(2, int(np.sqrt(num)) + 1):\n",
    "            if (num % i) == 0:\n",
    "                return False\n",
    "    return True\n"
   ]
  },
  {
   "cell_type": "code",
   "execution_count": 54,
   "id": "9c62d8cf",
   "metadata": {},
   "outputs": [
    {
     "name": "stdout",
     "output_type": "stream",
     "text": [
      "[3, 5, 7, 11, 13, 17, 19, 23, 29, 31, 37, 41, 43, 47, 53, 59, 61, 67, 71, 73, 79, 83, 89, 97, 101, 103, 107, 109, 113, 127, 131, 137, 139, 149, 151, 157, 163, 167, 173, 179, 181, 191, 193, 197, 199, 211, 223, 227, 229, 233, 239, 241, 251, 257, 263, 269, 271, 277, 281, 283, 293, 307, 311, 313]\n"
     ]
    }
   ],
   "source": [
    "def primes(n):\n",
    "    \"\"\"\n",
    "    Generate the first n prime numbers\n",
    "    start from 2 and check each number if it is prime using the is_prime function\n",
    "    if it is prime add it to the list of primes\n",
    "    add 1 to the number and repeat until we have n primes\n",
    "    skips even numbers as they are not prime (except 2)\n",
    "    \"\"\"\n",
    "    \n",
    "    primes = []\n",
    "    num = 2  \n",
    "    while len(primes) < n:\n",
    "        if (num >= 2) and (num % 2 != 0):\n",
    "            if is_prime(num):\n",
    "                primes.append(num)\n",
    "        num += 1\n",
    "\n",
    "    return primes\n",
    "\n",
    "print(primes(64))"
   ]
  },
  {
   "cell_type": "code",
   "execution_count": null,
   "id": "dce33fb1",
   "metadata": {},
   "outputs": [],
   "source": [
    "def cube_root(p):\n",
    "    \"\"\"\n",
    "    \"\"\""
   ]
  },
  {
   "cell_type": "markdown",
   "id": "55ed3539",
   "metadata": {},
   "source": [
    "## Problem 3 Padding"
   ]
  },
  {
   "cell_type": "markdown",
   "id": "fd62314d",
   "metadata": {},
   "source": [
    "## Problem 4 Hashes "
   ]
  },
  {
   "cell_type": "markdown",
   "id": "56e508ac",
   "metadata": {},
   "source": [
    "## Problem 5 Passwords"
   ]
  },
  {
   "cell_type": "markdown",
   "id": "e29bb4f9",
   "metadata": {},
   "source": [
    "## End"
   ]
  }
 ],
 "metadata": {
  "kernelspec": {
   "display_name": "Python 3",
   "language": "python",
   "name": "python3"
  },
  "language_info": {
   "codemirror_mode": {
    "name": "ipython",
    "version": 3
   },
   "file_extension": ".py",
   "mimetype": "text/x-python",
   "name": "python",
   "nbconvert_exporter": "python",
   "pygments_lexer": "ipython3",
   "version": "3.12.1"
  }
 },
 "nbformat": 4,
 "nbformat_minor": 5
}
